{
 "cells": [
  {
   "cell_type": "markdown",
   "metadata": {},
   "source": [
    "DataSet - Printing the dataset"
   ]
  },
  {
   "cell_type": "code",
   "execution_count": 43,
   "metadata": {
    "collapsed": false
   },
   "outputs": [
    {
     "data": {
      "text/plain": [
       "['year,month,date_of_month,day_of_week,births',\n",
       " '1994,1,1,6,8096',\n",
       " '1994,1,2,7,7772',\n",
       " '1994,1,3,1,10142',\n",
       " '1994,1,4,2,11248',\n",
       " '1994,1,5,3,11053',\n",
       " '1994,1,6,4,11406',\n",
       " '1994,1,7,5,11251',\n",
       " '1994,1,8,6,8653',\n",
       " '1994,1,9,7,7910',\n",
       " '1994,1,10,1,10498',\n",
       " '1994,1,11,2,11706',\n",
       " '1994,1,12,3,11567',\n",
       " '1994,1,13,4,11212',\n",
       " '1994,1,14,5,11570',\n",
       " '1994,1,15,6,8660',\n",
       " '1994,1,16,7,8123',\n",
       " '1994,1,17,1,10567',\n",
       " '1994,1,18,2,11541',\n",
       " '1994,1,19,3,11257']"
      ]
     },
     "execution_count": 43,
     "metadata": {},
     "output_type": "execute_result"
    }
   ],
   "source": [
    "file = open(\"US_births_1994-2003_CDC_NCHS.csv\").read().split(\"\\n\")\n",
    "file[0:20]"
   ]
  },
  {
   "cell_type": "markdown",
   "metadata": {},
   "source": [
    "Converting the dataset into a list of lists."
   ]
  },
  {
   "cell_type": "code",
   "execution_count": 44,
   "metadata": {
    "collapsed": false
   },
   "outputs": [
    {
     "name": "stdout",
     "output_type": "stream",
     "text": [
      "[[1994, 1, 1, 6, 8096], [1994, 1, 2, 7, 7772], [1994, 1, 3, 1, 10142], [1994, 1, 4, 2, 11248], [1994, 1, 5, 3, 11053], [1994, 1, 6, 4, 11406], [1994, 1, 7, 5, 11251], [1994, 1, 8, 6, 8653], [1994, 1, 9, 7, 7910], [1994, 1, 10, 1, 10498], [1994, 1, 11, 2, 11706], [1994, 1, 12, 3, 11567], [1994, 1, 13, 4, 11212], [1994, 1, 14, 5, 11570], [1994, 1, 15, 6, 8660], [1994, 1, 16, 7, 8123], [1994, 1, 17, 1, 10567], [1994, 1, 18, 2, 11541], [1994, 1, 19, 3, 11257], [1994, 1, 20, 4, 11682]]\n"
     ]
    }
   ],
   "source": [
    "\n",
    "def read_csv(fileName):\n",
    "    file = open(fileName).read()\n",
    "    string_list = file.split('\\n')[1:]\n",
    "    final_list = []\n",
    "    for str in string_list:\n",
    "        int_fields=[]\n",
    "        string_fields = str.split(',')\n",
    "        for field in string_fields:\n",
    "            int_fields.append(int(field))\n",
    "        final_list.append(int_fields)\n",
    "    return final_list\n",
    "\n",
    "cdc_list = read_csv(\"US_births_1994-2003_CDC_NCHS.csv\")\n",
    "print(cdc_list[0:20])"
   ]
  },
  {
   "cell_type": "markdown",
   "metadata": {},
   "source": [
    "Count the number of births for each value in year, month , day of the month and day of the week."
   ]
  },
  {
   "cell_type": "code",
   "execution_count": 31,
   "metadata": {
    "collapsed": false
   },
   "outputs": [
    {
     "name": "stdout",
     "output_type": "stream",
     "text": [
      "{2000: 4051971, 2001: 4020497, 2002: 4015938, 2003: 4084170, 1994: 3946665, 1995: 3893756, 1996: 3885807, 1997: 3874542, 1998: 3935338, 1999: 3953253}\n"
     ]
    }
   ],
   "source": [
    "def calc_counts(data,column):\n",
    "    dict={}\n",
    "    for list in data:\n",
    "        col_value = list[column]\n",
    "        numOfBirths = list[4]\n",
    "        if col_value in dict:\n",
    "            dict[col_value] = dict[col_value]+numOfBirths\n",
    "        else:\n",
    "            dict[col_value]=numOfBirths\n",
    "    return dict\n",
    "\n",
    "cdc_year_births = calc_counts(cdc_list,0)\n",
    "cdc_month_births = calc_counts(cdc_list,1)\n",
    "cdc_dom_births = calc_counts(cdc_list,2)\n",
    "cdc_dow_births = calc_counts(cdc_list,3)\n",
    "    "
   ]
  },
  {
   "cell_type": "markdown",
   "metadata": {},
   "source": [
    "Number of births each year in the dataset."
   ]
  },
  {
   "cell_type": "code",
   "execution_count": 34,
   "metadata": {
    "collapsed": false
   },
   "outputs": [
    {
     "name": "stdout",
     "output_type": "stream",
     "text": [
      "{2000: 4051971, 2001: 4020497, 2002: 4015938, 2003: 4084170, 1994: 3946665, 1995: 3893756, 1996: 3885807, 1997: 3874542, 1998: 3935338, 1999: 3953253}\n"
     ]
    }
   ],
   "source": [
    "print(cdc_year_births)"
   ]
  },
  {
   "cell_type": "markdown",
   "metadata": {},
   "source": [
    "Number of births each month in the dataset."
   ]
  },
  {
   "cell_type": "code",
   "execution_count": 38,
   "metadata": {
    "collapsed": false
   },
   "outputs": [
    {
     "name": "stdout",
     "output_type": "stream",
     "text": [
      "{1: 3224422, 2: 3006387, 3: 3309945, 4: 3174688, 5: 3342767, 6: 3284187, 7: 3486336, 8: 3514438, 9: 3427524, 10: 3369473, 11: 3159342, 12: 3290191}\n"
     ]
    }
   ],
   "source": [
    "print(cdc_month_births)"
   ]
  },
  {
   "cell_type": "markdown",
   "metadata": {},
   "source": [
    "Number of births each day of the month in the dataset"
   ]
  },
  {
   "cell_type": "code",
   "execution_count": 39,
   "metadata": {
    "collapsed": false
   },
   "outputs": [
    {
     "name": "stdout",
     "output_type": "stream",
     "text": [
      "{1: 1268462, 2: 1280969, 3: 1294360, 4: 1276910, 5: 1288905, 6: 1293074, 7: 1299215, 8: 1303652, 9: 1295391, 10: 1310276, 11: 1302666, 12: 1306882, 13: 1266485, 14: 1308597, 15: 1310526, 16: 1307085, 17: 1314403, 18: 1315332, 19: 1307489, 20: 1313159, 21: 1311107, 22: 1308570, 23: 1285003, 24: 1276982, 25: 1260160, 26: 1273308, 27: 1282720, 28: 1296047, 29: 1214202, 30: 1194029, 31: 735962}\n"
     ]
    }
   ],
   "source": [
    "print(cdc_dom_births)"
   ]
  },
  {
   "cell_type": "markdown",
   "metadata": {},
   "source": [
    "Number of births each day of the week in the dataset"
   ]
  },
  {
   "cell_type": "code",
   "execution_count": 40,
   "metadata": {
    "collapsed": false
   },
   "outputs": [
    {
     "name": "stdout",
     "output_type": "stream",
     "text": [
      "{1: 5779025, 2: 6434950, 3: 6311805, 4: 6277027, 5: 6222411, 6: 4554021, 7: 4071958}\n"
     ]
    }
   ],
   "source": [
    "print(cdc_dow_births)"
   ]
  }
 ],
 "metadata": {
  "anaconda-cloud": {},
  "kernelspec": {
   "display_name": "Python 3",
   "language": "python",
   "name": "python3"
  },
  "language_info": {
   "codemirror_mode": {
    "name": "ipython",
    "version": 3
   },
   "file_extension": ".py",
   "mimetype": "text/x-python",
   "name": "python",
   "nbconvert_exporter": "python",
   "pygments_lexer": "ipython3",
   "version": "3.4.3"
  }
 },
 "nbformat": 4,
 "nbformat_minor": 1
}
