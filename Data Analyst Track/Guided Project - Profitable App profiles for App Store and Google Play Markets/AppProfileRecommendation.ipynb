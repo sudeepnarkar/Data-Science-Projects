{
 "cells": [
  {
   "cell_type": "markdown",
   "metadata": {
    "collapsed": true
   },
   "source": [
    "# Profitable App profile for App Store and Google Play Markets"
   ]
  },
  {
   "cell_type": "markdown",
   "metadata": {},
   "source": [
    "The goal of the project is to analyse the application profiles that are more likely to generate revenue for the company. The company only build apps that are free to download and install, and the main source of revenue consists of in-app ads. This means the revenue for any given app is mostly influenced by the number of users who use our app.\n",
    "\n",
    "\n",
    "## Opening and exploring the data. "
   ]
  },
  {
   "cell_type": "code",
   "execution_count": 1,
   "metadata": {
    "collapsed": false
   },
   "outputs": [
    {
     "name": "stdout",
     "output_type": "stream",
     "text": [
      "[['App', 'Category', 'Rating', 'Reviews', 'Size', 'Installs', 'Type', 'Price', 'Content Rating', 'Genres', 'Last Updated', 'Current Ver', 'Android Ver'], ['Photo Editor & Candy Camera & Grid & ScrapBook', 'ART_AND_DESIGN', '4.1', '159', '19M', '10,000+', 'Free', '0', 'Everyone', 'Art & Design', 'January 7, 2018', '1.0.0', '4.0.3 and up'], ['Coloring book moana', 'ART_AND_DESIGN', '3.9', '967', '14M', '500,000+', 'Free', '0', 'Everyone', 'Art & Design;Pretend Play', 'January 15, 2018', '2.0.0', '4.0.3 and up'], ['U Launcher Lite – FREE Live Cool Themes, Hide Apps', 'ART_AND_DESIGN', '4.7', '87510', '8.7M', '5,000,000+', 'Free', '0', 'Everyone', 'Art & Design', 'August 1, 2018', '1.2.4', '4.0.3 and up'], ['Sketch - Draw & Paint', 'ART_AND_DESIGN', '4.5', '215644', '25M', '50,000,000+', 'Free', '0', 'Teen', 'Art & Design', 'June 8, 2018', 'Varies with device', '4.2 and up'], ['Pixel Draw - Number Art Coloring Book', 'ART_AND_DESIGN', '4.3', '967', '2.8M', '100,000+', 'Free', '0', 'Everyone', 'Art & Design;Creativity', 'June 20, 2018', '1.1', '4.4 and up'], ['Paper flowers instructions', 'ART_AND_DESIGN', '4.4', '167', '5.6M', '50,000+', 'Free', '0', 'Everyone', 'Art & Design', 'March 26, 2017', '1.0', '2.3 and up'], ['Smoke Effect Photo Maker - Smoke Editor', 'ART_AND_DESIGN', '3.8', '178', '19M', '50,000+', 'Free', '0', 'Everyone', 'Art & Design', 'April 26, 2018', '1.1', '4.0.3 and up'], ['Infinite Painter', 'ART_AND_DESIGN', '4.1', '36815', '29M', '1,000,000+', 'Free', '0', 'Everyone', 'Art & Design', 'June 14, 2018', '6.1.61.1', '4.2 and up'], ['Garden Coloring Book', 'ART_AND_DESIGN', '4.4', '13791', '33M', '1,000,000+', 'Free', '0', 'Everyone', 'Art & Design', 'September 20, 2017', '2.9.2', '3.0 and up'], ['Kids Paint Free - Drawing Fun', 'ART_AND_DESIGN', '4.7', '121', '3.1M', '10,000+', 'Free', '0', 'Everyone', 'Art & Design;Creativity', 'July 3, 2018', '2.8', '4.0.3 and up'], ['Text on Photo - Fonteee', 'ART_AND_DESIGN', '4.4', '13880', '28M', '1,000,000+', 'Free', '0', 'Everyone', 'Art & Design', 'October 27, 2017', '1.0.4', '4.1 and up'], ['Name Art Photo Editor - Focus n Filters', 'ART_AND_DESIGN', '4.4', '8788', '12M', '1,000,000+', 'Free', '0', 'Everyone', 'Art & Design', 'July 31, 2018', '1.0.15', '4.0 and up'], ['Tattoo Name On My Photo Editor', 'ART_AND_DESIGN', '4.2', '44829', '20M', '10,000,000+', 'Free', '0', 'Teen', 'Art & Design', 'April 2, 2018', '3.8', '4.1 and up'], ['Mandala Coloring Book', 'ART_AND_DESIGN', '4.6', '4326', '21M', '100,000+', 'Free', '0', 'Everyone', 'Art & Design', 'June 26, 2018', '1.0.4', '4.4 and up'], ['3D Color Pixel by Number - Sandbox Art Coloring', 'ART_AND_DESIGN', '4.4', '1518', '37M', '100,000+', 'Free', '0', 'Everyone', 'Art & Design', 'August 3, 2018', '1.2.3', '2.3 and up'], ['Learn To Draw Kawaii Characters', 'ART_AND_DESIGN', '3.2', '55', '2.7M', '5,000+', 'Free', '0', 'Everyone', 'Art & Design', 'June 6, 2018', 'NaN', '4.2 and up'], ['Photo Designer - Write your name with shapes', 'ART_AND_DESIGN', '4.7', '3632', '5.5M', '500,000+', 'Free', '0', 'Everyone', 'Art & Design', 'July 31, 2018', '3.1', '4.1 and up'], ['350 Diy Room Decor Ideas', 'ART_AND_DESIGN', '4.5', '27', '17M', '10,000+', 'Free', '0', 'Everyone', 'Art & Design', 'November 7, 2017', '1.0', '2.3 and up'], ['FlipaClip - Cartoon animation', 'ART_AND_DESIGN', '4.3', '194216', '39M', '5,000,000+', 'Free', '0', 'Everyone', 'Art & Design', 'August 3, 2018', '2.2.5', '4.0.3 and up']]\n",
      "Wrong data ['Life Made WI-Fi Touchscreen Photo Frame', '1.9', '19', '3.0M', '1,000+', 'Free', '0', 'Everyone', '', 'February 11, 2018', '1.0.19', '4.0 and up']\n"
     ]
    }
   ],
   "source": [
    "from csv import reader\n",
    "\n",
    "def read_file(dataset):\n",
    "    open_file = open(dataset)\n",
    "    read_file = reader(open_file)\n",
    "    data = list(read_file)\n",
    "    return data\n",
    "\n",
    "def explore_data(dataset, start, end, rows_and_columns=False):\n",
    "    dataset_slice = dataset[start:end]    \n",
    "    for row in dataset_slice:\n",
    "        print(row)\n",
    "        print('\\n') # adds a new (empty) line after each row\n",
    "\n",
    "    if rows_and_columns:\n",
    "        print('Number of rows:', len(dataset))\n",
    "        print('Number of columns:', len(dataset[0]))\n",
    "\n",
    "android_data = read_file(\"googleplaystore.csv\")\n",
    "print(android_data[0:20])\n",
    "android_header = android_data[0]\n",
    "android_data = android_data[1:]\n",
    "print(\"Wrong data\",android_data[10472])\n"
   ]
  },
  {
   "cell_type": "code",
   "execution_count": 2,
   "metadata": {
    "collapsed": false
   },
   "outputs": [
    {
     "name": "stdout",
     "output_type": "stream",
     "text": [
      "[['id', 'track_name', 'size_bytes', 'currency', 'price', 'rating_count_tot', 'rating_count_ver', 'user_rating', 'user_rating_ver', 'ver', 'cont_rating', 'prime_genre', 'sup_devices.num', 'ipadSc_urls.num', 'lang.num', 'vpp_lic'], ['284882215', 'Facebook', '389879808', 'USD', '0.0', '2974676', '212', '3.5', '3.5', '95.0', '4+', 'Social Networking', '37', '1', '29', '1'], ['389801252', 'Instagram', '113954816', 'USD', '0.0', '2161558', '1289', '4.5', '4.0', '10.23', '12+', 'Photo & Video', '37', '0', '29', '1'], ['529479190', 'Clash of Clans', '116476928', 'USD', '0.0', '2130805', '579', '4.5', '4.5', '9.24.12', '9+', 'Games', '38', '5', '18', '1'], ['420009108', 'Temple Run', '65921024', 'USD', '0.0', '1724546', '3842', '4.5', '4.0', '1.6.2', '9+', 'Games', '40', '5', '1', '1'], ['284035177', 'Pandora - Music & Radio', '130242560', 'USD', '0.0', '1126879', '3594', '4.0', '4.5', '8.4.1', '12+', 'Music', '37', '4', '1', '1'], ['429047995', 'Pinterest', '74778624', 'USD', '0.0', '1061624', '1814', '4.5', '4.0', '6.26', '12+', 'Social Networking', '37', '5', '27', '1'], ['282935706', 'Bible', '92774400', 'USD', '0.0', '985920', '5320', '4.5', '5.0', '7.5.1', '4+', 'Reference', '37', '5', '45', '1'], ['553834731', 'Candy Crush Saga', '222846976', 'USD', '0.0', '961794', '2453', '4.5', '4.5', '1.101.0', '4+', 'Games', '43', '5', '24', '1'], ['324684580', 'Spotify Music', '132510720', 'USD', '0.0', '878563', '8253', '4.5', '4.5', '8.4.3', '12+', 'Music', '37', '5', '18', '1'], ['343200656', 'Angry Birds', '175966208', 'USD', '0.0', '824451', '107', '4.5', '3.0', '7.4.0', '4+', 'Games', '38', '0', '10', '1'], ['512939461', 'Subway Surfers', '156038144', 'USD', '0.0', '706110', '97', '4.5', '4.0', '1.72.1', '9+', 'Games', '38', '5', '1', '1'], ['362949845', 'Fruit Ninja Classic', '104590336', 'USD', '1.99', '698516', '132', '4.5', '4.0', '2.3.9', '4+', 'Games', '38', '5', '13', '1'], ['359917414', 'Solitaire', '101943296', 'USD', '0.0', '679055', '9673', '4.5', '4.5', '4.11.2', '4+', 'Games', '38', '4', '11', '1'], ['469369175', 'CSR Racing', '524803072', 'USD', '0.0', '677247', '2029', '4.5', '4.5', '4.0.1', '4+', 'Games', '37', '5', '10', '1'], ['924373886', 'Crossy Road - Endless Arcade Hopper', '165471232', 'USD', '0.0', '669079', '1087', '4.5', '4.5', '1.5.4', '9+', 'Games', '38', '5', '13', '1'], ['575658129', 'Injustice: Gods Among Us', '1829599232', 'USD', '0.0', '612532', '410', '4.5', '4.5', '2.15.1', '12+', 'Games', '39', '5', '13', '1'], ['506627515', 'Hay Day', '113641472', 'USD', '0.0', '567344', '4887', '4.5', '4.5', '1.33.134', '4+', 'Games', '38', '5', '18', '1'], ['500116670', 'Clear Vision (17+)', '37879808', 'USD', '0.99', '541693', '69225', '4.5', '4.5', '1.1.3', '17+', 'Games', '43', '5', '1', '1'], ['479516143', 'Minecraft: Pocket Edition', '147787776', 'USD', '6.99', '522012', '1148', '4.5', '4.5', '1.1', '9+', 'Games', '37', '1', '11', '1']]\n",
      "7197\n"
     ]
    }
   ],
   "source": [
    "ios_data = read_file(\"AppleStore.csv\")\n",
    "print(ios_data[0:20])\n",
    "ios_header = ios_data[0]\n",
    "ios_data = ios_data[1:]\n",
    "print(len(ios_data))"
   ]
  },
  {
   "cell_type": "markdown",
   "metadata": {},
   "source": [
    "## Data Cleaning\n",
    "\n",
    "### Deleting bad data\n",
    "\n",
    "One of the rows in the android app dataset is missing value for the category column. We need to remove the column at that index so that it does not affect out result."
   ]
  },
  {
   "cell_type": "code",
   "execution_count": 3,
   "metadata": {
    "collapsed": false
   },
   "outputs": [],
   "source": [
    " del(android_data[10472])"
   ]
  },
  {
   "cell_type": "markdown",
   "metadata": {},
   "source": [
    "### Removing duplicate data\n",
    "\n",
    "Duplicate data needs to be analysed and removed so that it does not influence the results."
   ]
  },
  {
   "cell_type": "code",
   "execution_count": 4,
   "metadata": {
    "collapsed": false
   },
   "outputs": [
    {
     "name": "stdout",
     "output_type": "stream",
     "text": [
      "Number of unique android apps =  9659\n",
      "Number of duplicate android apps =  1181\n"
     ]
    }
   ],
   "source": [
    "\n",
    "def duplicate_apps(dataset):\n",
    "    unique_data = []\n",
    "    duplicate_data =[]\n",
    "    for app in dataset:\n",
    "        name = app[0]\n",
    "        if name in unique_data:\n",
    "            duplicate_data.append(name)\n",
    "        else:\n",
    "            unique_data.append(name)\n",
    "    return unique_data,duplicate_data   \n",
    "    \n",
    "unique_data_android,duplicate_data_android = duplicate_apps(android_data)\n",
    "print(\"Number of unique android apps = \", len(unique_data_android))\n",
    "print(\"Number of duplicate android apps = \", len(duplicate_data_android)) \n"
   ]
  },
  {
   "cell_type": "code",
   "execution_count": 5,
   "metadata": {
    "collapsed": false
   },
   "outputs": [
    {
     "name": "stdout",
     "output_type": "stream",
     "text": [
      "Number of unique ios apps =  7197\n",
      "Number of duplicate ios apps =  0\n"
     ]
    }
   ],
   "source": [
    "unique_data_ios,duplicate_data_ios = duplicate_apps(ios_data)\n",
    "print(\"Number of unique ios apps = \", len(unique_data_ios))\n",
    "print(\"Number of duplicate ios apps = \", len(duplicate_data_ios))  "
   ]
  },
  {
   "cell_type": "markdown",
   "metadata": {},
   "source": [
    "Only the Android dataset has duplicates. We need to elimniate duplicate entries but at the same time want to keep the entry with the most number of user reviews. One way of doing this is to create a dictionary with keys as app name and the value as the highest number of reviews associated with it. Also, the size of the dictionary should be equal to the number of unique android apps. "
   ]
  },
  {
   "cell_type": "code",
   "execution_count": 6,
   "metadata": {
    "collapsed": false
   },
   "outputs": [
    {
     "name": "stdout",
     "output_type": "stream",
     "text": [
      "9659\n",
      "9659\n",
      "10840\n"
     ]
    }
   ],
   "source": [
    "reviews_max = {}\n",
    "for app in android_data:\n",
    "    name = app[0]\n",
    "    n_reviews = app[3]\n",
    "    if name in reviews_max and n_reviews>reviews_max[name]:\n",
    "        reviews_max[name]=n_reviews\n",
    "    if name not in reviews_max:\n",
    "        reviews_max[name]=n_reviews\n",
    "        \n",
    "print(len(reviews_max))\n",
    "print(len(unique_data_android))\n",
    "print(len(android_data))"
   ]
  },
  {
   "cell_type": "markdown",
   "metadata": {},
   "source": [
    "We eliminate the redundant entries by matching them with the entries in the review_max dictionary. The size of the dictionary should be equal to the number of apps in android_clean list. "
   ]
  },
  {
   "cell_type": "code",
   "execution_count": 7,
   "metadata": {
    "collapsed": false
   },
   "outputs": [
    {
     "name": "stdout",
     "output_type": "stream",
     "text": [
      "number of android apps 9659\n",
      "size of reviews dictionary 9659\n"
     ]
    }
   ],
   "source": [
    "android_clean = []\n",
    "ios_clean = ios_data\n",
    "already_added = []\n",
    "\n",
    "\n",
    "for app in android_data:\n",
    "    name = app[0]\n",
    "    n_reviews = app[3]\n",
    "    if n_reviews == reviews_max[name] and name not in already_added:\n",
    "        android_clean.append(app)\n",
    "        already_added.append(name)\n",
    "        \n",
    "print(\"number of android apps\",len(android_clean))\n",
    "print(\"size of reviews dictionary\",len(reviews_max))\n"
   ]
  },
  {
   "cell_type": "markdown",
   "metadata": {},
   "source": [
    "### Removing non-english apps\n",
    "\n",
    "We are analysing the data only for English Apps. We need to remove all the apps that are not in English. The logic to identify if an app is English is to scan it's characters and if any character's ASCII value is greater 127 then mark it as non-english and return false. Some corner cases with special characters (i.e - \"\", whitespace) need to be accounted for. So the max number of character with ASCII value beyond the specified range is set at three. "
   ]
  },
  {
   "cell_type": "code",
   "execution_count": 8,
   "metadata": {
    "collapsed": false
   },
   "outputs": [
    {
     "name": "stdout",
     "output_type": "stream",
     "text": [
      "True\n"
     ]
    }
   ],
   "source": [
    "def is_English(name):\n",
    "    count = 0\n",
    "    for char in name:\n",
    "        if ord(char)>127:\n",
    "            if count==3:\n",
    "                return False\n",
    "            else:\n",
    "                count+=1\n",
    "    return True\n",
    "\n",
    "res = is_English(\"Docs To Go™ Free Office Suite\")#test changes\n",
    "print(res)    "
   ]
  },
  {
   "cell_type": "markdown",
   "metadata": {},
   "source": [
    "After applying the filter we observe that only the android dataset has non-english apps which are eliminated but the ios dataset has no change."
   ]
  },
  {
   "cell_type": "code",
   "execution_count": 9,
   "metadata": {
    "collapsed": false
   },
   "outputs": [
    {
     "name": "stdout",
     "output_type": "stream",
     "text": [
      "9614\n",
      "7197\n"
     ]
    }
   ],
   "source": [
    "english_android_apps = []\n",
    "english_ios_apps = []\n",
    "        \n",
    "def remove_non_english(dataset):\n",
    "    english_apps = []\n",
    "    for app in dataset:\n",
    "        name = app[0]\n",
    "        if is_English(name) == True:\n",
    "            english_apps.append(app)\n",
    "    return english_apps       \n",
    "\n",
    "\n",
    "english_android_apps = remove_non_english(android_clean)\n",
    "english_ios_apps = remove_non_english(ios_clean)\n",
    "\n",
    "print(len(english_android_apps))\n",
    "print(len(english_ios_apps))"
   ]
  },
  {
   "cell_type": "markdown",
   "metadata": {},
   "source": [
    "Isolating the free apps from non-free from the dataset"
   ]
  },
  {
   "cell_type": "code",
   "execution_count": 10,
   "metadata": {
    "collapsed": false
   },
   "outputs": [
    {
     "name": "stdout",
     "output_type": "stream",
     "text": [
      "Number of free android apps 8862\n",
      "Number of free ios apps 4056\n"
     ]
    }
   ],
   "source": [
    "android_free_apps = []\n",
    "ios_free_apps = []\n",
    "for app in english_android_apps:\n",
    "    price = app[7]\n",
    "    if price == '0':\n",
    "        android_free_apps.append(app)\n",
    "\n",
    "for app in english_ios_apps:\n",
    "    price = app[4]\n",
    "    if price == '0.0':\n",
    "        ios_free_apps.append(app)\n",
    "        \n",
    "        \n",
    "print(\"Number of free android apps\",len(android_free_apps))   \n",
    "print(\"Number of free ios apps\",len(ios_free_apps))   "
   ]
  },
  {
   "cell_type": "markdown",
   "metadata": {},
   "source": [
    "## Data Analysis\n",
    "\n",
    "The validation strategy of the app idea is as follows:\n",
    "\n",
    "To minimize risks and overhead, our validation strategy for an app idea is comprised of three steps:\n",
    "\n",
    "1. Build a minimal Android version of the app, and add it to Google Play.\n",
    "2. If the app has a good response from users, we then develop it further.\n",
    "3. If the app is profitable after six months, we also build an iOS version of the app and add    it to the App Store.\n",
    "\n",
    "In order to do this, we need to analyse the data to find the most common genres and categories of apps in the dataset. We need to create a frequency table to assess percentange of apps in each those categories."
   ]
  },
  {
   "cell_type": "code",
   "execution_count": 11,
   "metadata": {
    "collapsed": true
   },
   "outputs": [],
   "source": [
    "def freq_table(dataset,index):\n",
    "    freq = {}\n",
    "    total = 0\n",
    "    for app in dataset:\n",
    "        val = app[index]\n",
    "        if val in freq:\n",
    "            freq[val]+=1\n",
    "        else:\n",
    "            freq[val]=1\n",
    "        total+=1\n",
    "     \n",
    "    table_percentages = {}\n",
    "    for key in freq:\n",
    "        percentage = (freq[key] / total) * 100\n",
    "        table_percentages[key] = percentage \n",
    "    \n",
    "    return table_percentages"
   ]
  },
  {
   "cell_type": "markdown",
   "metadata": {},
   "source": [
    "Computing the frequency table and sorting it in descending order."
   ]
  },
  {
   "cell_type": "code",
   "execution_count": 12,
   "metadata": {
    "collapsed": false
   },
   "outputs": [
    {
     "name": "stdout",
     "output_type": "stream",
     "text": [
      "\n",
      "\n",
      "android_free_apps list in category:\n",
      "\n",
      "FAMILY : 18.934777702550214\n",
      "GAME : 9.693071541412774\n",
      "TOOLS : 8.451816745655607\n",
      "BUSINESS : 4.5926427443015125\n",
      "LIFESTYLE : 3.9043105393816293\n",
      "PRODUCTIVITY : 3.8930264048747465\n",
      "FINANCE : 3.7011961182577298\n",
      "MEDICAL : 3.5206499661475967\n",
      "SPORTS : 3.39652448657188\n",
      "PERSONALIZATION : 3.3175355450236967\n",
      "COMMUNICATION : 3.238546603475513\n",
      "HEALTH_AND_FITNESS : 3.080568720379147\n",
      "PHOTOGRAPHY : 2.945159106296547\n",
      "NEWS_AND_MAGAZINES : 2.798465357707064\n",
      "SOCIAL : 2.663055743624464\n",
      "TRAVEL_AND_LOCAL : 2.335815842924848\n",
      "SHOPPING : 2.2455427668697814\n",
      "BOOKS_AND_REFERENCE : 2.143985556307831\n",
      "DATING : 1.8618821936357481\n",
      "VIDEO_PLAYERS : 1.7941773865944481\n",
      "MAPS_AND_NAVIGATION : 1.399232678853532\n",
      "FOOD_AND_DRINK : 1.2412547957571656\n",
      "EDUCATION : 1.1735499887158656\n",
      "ENTERTAINMENT : 0.9591514330850823\n",
      "LIBRARIES_AND_DEMO : 0.9365831640713158\n",
      "AUTO_AND_VEHICLES : 0.9252990295644324\n",
      "HOUSE_AND_HOME : 0.8237418190024826\n",
      "WEATHER : 0.8011735499887158\n",
      "EVENTS : 0.7109004739336493\n",
      "PARENTING : 0.6544798013992327\n",
      "ART_AND_DESIGN : 0.6431956668923494\n",
      "COMICS : 0.6206273978785828\n",
      "BEAUTY : 0.598059128864816\n"
     ]
    }
   ],
   "source": [
    "def display_table(dataset, index):\n",
    "    table = freq_table(dataset, index)\n",
    "    table_display = []\n",
    "    for key in table:\n",
    "        key_val_as_tuple = (table[key], key)\n",
    "        table_display.append(key_val_as_tuple)\n",
    "\n",
    "    table_sorted = sorted(table_display, reverse = True)\n",
    "    for entry in table_sorted:\n",
    "        print(entry[1], ':', entry[0])\n",
    "        \n",
    "print(\"\\n\\nandroid_free_apps list in category:\\n\")\n",
    "display_table(android_free_apps,1) #category "
   ]
  },
  {
   "cell_type": "markdown",
   "metadata": {},
   "source": [
    "As we can see, most number of apps in Android dataset belong to the family category"
   ]
  },
  {
   "cell_type": "code",
   "execution_count": 13,
   "metadata": {
    "collapsed": false
   },
   "outputs": [
    {
     "name": "stdout",
     "output_type": "stream",
     "text": [
      "ios_free_apps list in prime_genre:\n",
      "\n",
      "Games : 55.64595660749507\n",
      "Entertainment : 8.234714003944774\n",
      "Photo & Video : 4.117357001972387\n",
      "Social Networking : 3.5256410256410255\n",
      "Education : 3.2544378698224854\n",
      "Shopping : 2.983234714003945\n",
      "Utilities : 2.687376725838264\n",
      "Lifestyle : 2.3175542406311638\n",
      "Finance : 2.0710059171597637\n",
      "Sports : 1.947731755424063\n",
      "Health & Fitness : 1.8737672583826428\n",
      "Music : 1.6518737672583828\n",
      "Book : 1.6272189349112427\n",
      "Productivity : 1.5285996055226825\n",
      "News : 1.4299802761341223\n",
      "Travel : 1.3806706114398422\n",
      "Food & Drink : 1.0601577909270217\n",
      "Weather : 0.7642998027613412\n",
      "Reference : 0.4930966469428008\n",
      "Navigation : 0.4930966469428008\n",
      "Business : 0.4930966469428008\n",
      "Catalogs : 0.22189349112426035\n",
      "Medical : 0.19723865877712032\n"
     ]
    }
   ],
   "source": [
    "print(\"ios_free_apps list in prime_genre:\\n\")\n",
    "display_table(ios_free_apps,-5) #Genre"
   ]
  },
  {
   "cell_type": "markdown",
   "metadata": {},
   "source": [
    "The results are significantly different in the ios app dataset. Most number of games seem to belong to the Games category.\n",
    "\n",
    "\n",
    "We need to probe a little furthur. Just because a certain cetegory has more number of apps does not mean they are also very popular. Number of installs and user ratings can be a good indicator of popularity. The install columnn is only present in the android dataset and not in ios dataset. We can use rating_count_tot column in ios dataset as a proxy for that.\n",
    "\n",
    "\n",
    "### Popular IOS apps by genre"
   ]
  },
  {
   "cell_type": "code",
   "execution_count": 14,
   "metadata": {
    "collapsed": false
   },
   "outputs": [
    {
     "name": "stdout",
     "output_type": "stream",
     "text": [
      "Games : 18924.68896765618\n",
      "Book : 8498.333333333334\n",
      "Food & Drink : 20179.093023255813\n",
      "Health & Fitness : 19952.315789473683\n",
      "Music : 56482.02985074627\n",
      "Business : 6367.8\n",
      "Navigation : 25972.05\n",
      "Sports : 20128.974683544304\n",
      "Shopping : 18746.677685950413\n",
      "Education : 6266.333333333333\n",
      "Lifestyle : 8978.308510638299\n",
      "Productivity : 19053.887096774193\n",
      "Finance : 13522.261904761905\n",
      "Reference : 67447.9\n",
      "Social Networking : 53078.195804195806\n",
      "Medical : 459.75\n",
      "News : 15892.724137931034\n",
      "Weather : 47220.93548387097\n",
      "Catalogs : 1779.5555555555557\n",
      "Utilities : 14010.100917431193\n",
      "Travel : 20216.01785714286\n",
      "Entertainment : 10822.961077844311\n",
      "Photo & Video : 27249.892215568863\n"
     ]
    }
   ],
   "source": [
    "genres_ios = freq_table(ios_free_apps, -5)\n",
    "\n",
    "for genre in genres_ios:\n",
    "    total = 0\n",
    "    len_genre = 0\n",
    "    for app in ios_free_apps:\n",
    "        genre_app = app[-5]\n",
    "        if genre_app == genre:            \n",
    "            n_ratings = float(app[5])\n",
    "            total += n_ratings\n",
    "            len_genre += 1\n",
    "    avg_n_ratings = total / len_genre\n",
    "    print(genre, ':', avg_n_ratings)\n",
    "    "
   ]
  },
  {
   "cell_type": "markdown",
   "metadata": {},
   "source": [
    "The most number of user ratings for app per genre is for social networking and Music category. This space is mainly dominated by giants like Facebook, Twitter, Google and Spotify.  \n",
    "\n",
    "\n",
    "### Popular Android apps by genre"
   ]
  },
  {
   "cell_type": "code",
   "execution_count": 15,
   "metadata": {
    "collapsed": false
   },
   "outputs": [
    {
     "name": "stdout",
     "output_type": "stream",
     "text": [
      "Action  :  12603588.872727273\n",
      "Casual;Action & Adventure  :  12916666.666666666\n",
      "Role Playing;Action & Adventure  :  7000000.0\n",
      "Sports  :  4596842.615635179\n",
      "Arcade;Action & Adventure  :  3190909.1818181816\n",
      "Word  :  9094458.695652174\n",
      "Board;Action & Adventure  :  3000000.0\n",
      "Casual;Creativity  :  5333333.333333333\n",
      "Entertainment;Brain Games  :  3314285.714285714\n",
      "Adventure  :  4922785.333333333\n",
      "Lifestyle  :  1412998.3449275363\n",
      "Strategy;Action & Adventure  :  1000000.0\n",
      "Casual;Pretend Play  :  6957142.857142857\n",
      "Music  :  9445583.333333334\n",
      "Video Players & Editors  :  24947335.796178345\n",
      "Productivity  :  16787331.344927534\n",
      "Casual  :  19630958.51612903\n",
      "Racing;Pretend Play  :  1000000.0\n",
      "Social  :  23253652.127118643\n",
      "Travel & Local  :  14051476.145631067\n",
      "Art & Design;Pretend Play  :  500000.0\n",
      "Entertainment;Creativity  :  4000000.0\n",
      "Casual;Brain Games  :  1425916.6666666667\n",
      "Puzzle;Action & Adventure  :  18366666.666666668\n",
      "Auto & Vehicles  :  647317.8170731707\n",
      "Food & Drink  :  1924897.7363636363\n",
      "Lifestyle;Pretend Play  :  10000000.0\n",
      "Educational;Brain Games  :  4433333.333333333\n",
      "Casino  :  3427910.5263157897\n",
      "Card  :  3656884.6153846155\n",
      "Parenting;Music & Video  :  1118333.3333333333\n",
      "Education;Pretend Play  :  1800000.0\n",
      "Entertainment;Pretend Play  :  3000000.0\n",
      "Education;Education  :  4759517.0\n",
      "Parenting;Brain Games  :  1000000.0\n",
      "Puzzle;Education  :  100000.0\n",
      "Tools;Education  :  10000000.0\n",
      "Casual;Music & Video  :  10000000.0\n",
      "Simulation  :  3475484.08839779\n",
      "Books & Reference  :  8767811.894736841\n",
      "Role Playing;Brain Games  :  10000000.0\n",
      "Beauty  :  513151.88679245283\n",
      "Strategy  :  11199902.530864198\n",
      "Education;Music & Video  :  2033333.3333333333\n",
      "Simulation;Education  :  500.0\n",
      "Sports;Action & Adventure  :  5050000.0\n",
      "Adventure;Action & Adventure  :  35333333.333333336\n",
      "Lifestyle;Education  :  100000.0\n",
      "Action;Action & Adventure  :  5888888.888888889\n",
      "Educational;Action & Adventure  :  17016666.666666668\n",
      "Maps & Navigation  :  4056941.7741935486\n",
      "Photography  :  17805627.643678162\n",
      "Simulation;Action & Adventure  :  4857142.857142857\n",
      "Health & Fitness  :  4188821.9853479853\n",
      "Board;Brain Games  :  981250.0\n",
      "Health & Fitness;Education  :  100000.0\n",
      "Comics  :  831873.1481481482\n",
      "Health & Fitness;Action & Adventure  :  1000000.0\n",
      "Parenting  :  467977.5\n",
      "Educational;Education  :  1737143.142857143\n",
      "Travel & Local;Action & Adventure  :  100000.0\n",
      "Shopping  :  7036877.311557789\n",
      "Education  :  540691.7721518987\n",
      "Communication  :  38456119.167247385\n",
      "Books & Reference;Education  :  1000.0\n",
      "Simulation;Pretend Play  :  550000.0\n",
      "Educational  :  411184.8484848485\n",
      "Music & Audio;Music & Video  :  500000.0\n",
      "Casual;Education  :  1000000.0\n",
      "Finance  :  1387692.475609756\n",
      "House & Home  :  1331540.5616438356\n",
      "Puzzle;Brain Games  :  9013125.0\n",
      "Educational;Creativity  :  2333333.3333333335\n",
      "Entertainment;Education  :  1000000.0\n",
      "Medical  :  120616.48717948717\n",
      "Puzzle  :  8302861.91\n",
      "Education;Brain Games  :  5333333.333333333\n",
      "Libraries & Demo  :  638503.734939759\n",
      "Art & Design;Creativity  :  285000.0\n",
      "Arcade;Pretend Play  :  1000000.0\n",
      "Video Players & Editors;Music & Video  :  7500000.0\n",
      "Events  :  253542.22222222222\n",
      "Parenting;Education  :  452857.14285714284\n",
      "Art & Design  :  2122850.9433962265\n",
      "Education;Creativity  :  2875000.0\n",
      "Racing;Action & Adventure  :  8816666.666666666\n",
      "Entertainment;Action & Adventure  :  2333333.3333333335\n",
      "News & Magazines  :  9549178.467741935\n",
      "Card;Action & Adventure  :  10000000.0\n",
      "Tools  :  10683213.20053476\n",
      "Card;Brain Games  :  100000.0\n",
      "Music;Music & Video  :  5050000.0\n",
      "Trivia  :  3475712.7027027025\n",
      "Strategy;Creativity  :  1000000.0\n",
      "Puzzle;Creativity  :  750000.0\n",
      "Trivia;Education  :  100.0\n",
      "Dating  :  854028.8303030303\n",
      "Art & Design;Action & Adventure  :  100000.0\n",
      "Comics;Creativity  :  50000.0\n",
      "Role Playing  :  3965645.421686747\n",
      "Educational;Pretend Play  :  9375000.0\n",
      "Video Players & Editors;Creativity  :  5000000.0\n",
      "Role Playing;Pretend Play  :  5275000.0\n",
      "Entertainment;Music & Video  :  6413333.333333333\n",
      "Weather  :  5074486.197183099\n",
      "Board  :  3388276.0606060605\n",
      "Arcade  :  22888365.48780488\n",
      "Entertainment  :  5602792.775092937\n",
      "Adventure;Education  :  10000000.0\n",
      "Racing  :  15910645.681818182\n",
      "Communication;Creativity  :  500000.0\n",
      "Personalization  :  5201482.6122448975\n",
      "Strategy;Education  :  500000.0\n",
      "Business  :  1712290.1474201474\n",
      "Education;Action & Adventure  :  1000000.0\n"
     ]
    }
   ],
   "source": [
    "genre_android = freq_table(android_free_apps, -4)\n",
    "\n",
    "for genre in genre_android:\n",
    "    total_installs = 0\n",
    "    genre_len = 0\n",
    "    for app in android_free_apps:\n",
    "        n_installs = app[5]\n",
    "        if genre == app[-4]:\n",
    "            n_installs = n_installs.replace(',', '')\n",
    "            n_installs = n_installs.replace('+', '')\n",
    "            n_installs = float(n_installs)\n",
    "            total_installs+=n_installs\n",
    "            genre_len+=1\n",
    "    average = (total_installs/genre_len)\n",
    "    print(genre,\" : \",average)   "
   ]
  },
  {
   "cell_type": "markdown",
   "metadata": {},
   "source": [
    "So on an average communication genre has the most number of installs. "
   ]
  },
  {
   "cell_type": "markdown",
   "metadata": {},
   "source": [
    "## Conclusion\n",
    "\n",
    "We tried to assess the two datasets by cleaning and analysing them. We could see that for the ios dataset, apps in social networking and music category are more popular whereas for the android dataset, apps in the communication is greatly popular. The metrics used for the analysis are the genre, category, user ratings and the number of installs. These meaningful insights can be used to make data driven decision while creating new applications for the contemporary mobile appplication markets."
   ]
  }
 ],
 "metadata": {
  "kernelspec": {
   "display_name": "Python 3",
   "language": "python",
   "name": "python3"
  },
  "language_info": {
   "codemirror_mode": {
    "name": "ipython",
    "version": 3
   },
   "file_extension": ".py",
   "mimetype": "text/x-python",
   "name": "python",
   "nbconvert_exporter": "python",
   "pygments_lexer": "ipython3",
   "version": "3.4.3"
  }
 },
 "nbformat": 4,
 "nbformat_minor": 2
}
